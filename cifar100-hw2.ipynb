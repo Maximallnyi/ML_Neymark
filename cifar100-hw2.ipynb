{
 "cells": [
  {
   "cell_type": "markdown",
   "metadata": {},
   "source": [
    "**Классификация изображений с помощью сверточных нейронных сетей**\n",
    "\n",
    "В данном задании Вам необходимо разработать архитектуру сверточной ИНС, обеспечивающую наибольшую точность при ограничении на количество операций (FLOPs <= 0.707e6).\n",
    "Заготовка кода для выполнения задания приведена выше. Вашей задачей будет заполнить пропущеные места, которые отмечены ключевым словом *None*.\n",
    "Необходимая точность (accuracy) сети на датасете CIFAR100 - 30%\n",
    "Желаемая точность (accuracy) сети на датасете CIFAR100 - 45%"
   ]
  },
  {
   "cell_type": "code",
   "execution_count": 224,
   "metadata": {},
   "outputs": [
    {
     "name": "stdout",
     "output_type": "stream",
     "text": [
      "Requirement already satisfied: keras-flops in c:\\users\\avilo\\anaconda3\\lib\\site-packages (0.1.2)\n",
      "Requirement already satisfied: tensorflow<3.0,>=2.2 in c:\\users\\avilo\\anaconda3\\lib\\site-packages (from keras-flops) (2.11.0)\n",
      "Requirement already satisfied: tensorflow-intel==2.11.0 in c:\\users\\avilo\\anaconda3\\lib\\site-packages (from tensorflow<3.0,>=2.2->keras-flops) (2.11.0)\n",
      "Requirement already satisfied: tensorboard<2.12,>=2.11 in c:\\users\\avilo\\anaconda3\\lib\\site-packages (from tensorflow-intel==2.11.0->tensorflow<3.0,>=2.2->keras-flops) (2.11.2)\n",
      "Requirement already satisfied: packaging in c:\\users\\avilo\\anaconda3\\lib\\site-packages (from tensorflow-intel==2.11.0->tensorflow<3.0,>=2.2->keras-flops) (21.3)\n",
      "Requirement already satisfied: gast<=0.4.0,>=0.2.1 in c:\\users\\avilo\\anaconda3\\lib\\site-packages (from tensorflow-intel==2.11.0->tensorflow<3.0,>=2.2->keras-flops) (0.4.0)\n",
      "Requirement already satisfied: absl-py>=1.0.0 in c:\\users\\avilo\\anaconda3\\lib\\site-packages (from tensorflow-intel==2.11.0->tensorflow<3.0,>=2.2->keras-flops) (1.4.0)\n",
      "Requirement already satisfied: typing-extensions>=3.6.6 in c:\\users\\avilo\\anaconda3\\lib\\site-packages (from tensorflow-intel==2.11.0->tensorflow<3.0,>=2.2->keras-flops) (4.1.1)\n",
      "Requirement already satisfied: protobuf<3.20,>=3.9.2 in c:\\users\\avilo\\anaconda3\\lib\\site-packages (from tensorflow-intel==2.11.0->tensorflow<3.0,>=2.2->keras-flops) (3.19.1)\n",
      "Requirement already satisfied: tensorflow-estimator<2.12,>=2.11.0 in c:\\users\\avilo\\anaconda3\\lib\\site-packages (from tensorflow-intel==2.11.0->tensorflow<3.0,>=2.2->keras-flops) (2.11.0)\n",
      "Requirement already satisfied: termcolor>=1.1.0 in c:\\users\\avilo\\anaconda3\\lib\\site-packages (from tensorflow-intel==2.11.0->tensorflow<3.0,>=2.2->keras-flops) (2.2.0)\n",
      "Requirement already satisfied: numpy>=1.20 in c:\\users\\avilo\\anaconda3\\lib\\site-packages (from tensorflow-intel==2.11.0->tensorflow<3.0,>=2.2->keras-flops) (1.21.5)\n",
      "Requirement already satisfied: flatbuffers>=2.0 in c:\\users\\avilo\\anaconda3\\lib\\site-packages (from tensorflow-intel==2.11.0->tensorflow<3.0,>=2.2->keras-flops) (23.1.21)\n",
      "Requirement already satisfied: astunparse>=1.6.0 in c:\\users\\avilo\\anaconda3\\lib\\site-packages (from tensorflow-intel==2.11.0->tensorflow<3.0,>=2.2->keras-flops) (1.6.3)\n",
      "Requirement already satisfied: setuptools in c:\\users\\avilo\\anaconda3\\lib\\site-packages (from tensorflow-intel==2.11.0->tensorflow<3.0,>=2.2->keras-flops) (61.2.0)\n",
      "Requirement already satisfied: keras<2.12,>=2.11.0 in c:\\users\\avilo\\anaconda3\\lib\\site-packages (from tensorflow-intel==2.11.0->tensorflow<3.0,>=2.2->keras-flops) (2.11.0)\n",
      "Requirement already satisfied: six>=1.12.0 in c:\\users\\avilo\\anaconda3\\lib\\site-packages (from tensorflow-intel==2.11.0->tensorflow<3.0,>=2.2->keras-flops) (1.16.0)\n",
      "Requirement already satisfied: grpcio<2.0,>=1.24.3 in c:\\users\\avilo\\anaconda3\\lib\\site-packages (from tensorflow-intel==2.11.0->tensorflow<3.0,>=2.2->keras-flops) (1.42.0)\n",
      "Requirement already satisfied: google-pasta>=0.1.1 in c:\\users\\avilo\\anaconda3\\lib\\site-packages (from tensorflow-intel==2.11.0->tensorflow<3.0,>=2.2->keras-flops) (0.2.0)\n",
      "Requirement already satisfied: tensorflow-io-gcs-filesystem>=0.23.1 in c:\\users\\avilo\\anaconda3\\lib\\site-packages (from tensorflow-intel==2.11.0->tensorflow<3.0,>=2.2->keras-flops) (0.30.0)\n",
      "Requirement already satisfied: wrapt>=1.11.0 in c:\\users\\avilo\\anaconda3\\lib\\site-packages (from tensorflow-intel==2.11.0->tensorflow<3.0,>=2.2->keras-flops) (1.12.1)\n",
      "Requirement already satisfied: libclang>=13.0.0 in c:\\users\\avilo\\anaconda3\\lib\\site-packages (from tensorflow-intel==2.11.0->tensorflow<3.0,>=2.2->keras-flops) (15.0.6.1)\n",
      "Requirement already satisfied: opt-einsum>=2.3.2 in c:\\users\\avilo\\anaconda3\\lib\\site-packages (from tensorflow-intel==2.11.0->tensorflow<3.0,>=2.2->keras-flops) (3.3.0)\n",
      "Requirement already satisfied: h5py>=2.9.0 in c:\\users\\avilo\\anaconda3\\lib\\site-packages (from tensorflow-intel==2.11.0->tensorflow<3.0,>=2.2->keras-flops) (3.6.0)\n",
      "Requirement already satisfied: wheel<1.0,>=0.23.0 in c:\\users\\avilo\\anaconda3\\lib\\site-packages (from astunparse>=1.6.0->tensorflow-intel==2.11.0->tensorflow<3.0,>=2.2->keras-flops) (0.37.1)\n",
      "Requirement already satisfied: google-auth-oauthlib<0.5,>=0.4.1 in c:\\users\\avilo\\anaconda3\\lib\\site-packages (from tensorboard<2.12,>=2.11->tensorflow-intel==2.11.0->tensorflow<3.0,>=2.2->keras-flops) (0.4.6)\n",
      "Requirement already satisfied: requests<3,>=2.21.0 in c:\\users\\avilo\\anaconda3\\lib\\site-packages (from tensorboard<2.12,>=2.11->tensorflow-intel==2.11.0->tensorflow<3.0,>=2.2->keras-flops) (2.27.1)\n",
      "Requirement already satisfied: tensorboard-plugin-wit>=1.6.0 in c:\\users\\avilo\\anaconda3\\lib\\site-packages (from tensorboard<2.12,>=2.11->tensorflow-intel==2.11.0->tensorflow<3.0,>=2.2->keras-flops) (1.8.1)\n",
      "Requirement already satisfied: tensorboard-data-server<0.7.0,>=0.6.0 in c:\\users\\avilo\\anaconda3\\lib\\site-packages (from tensorboard<2.12,>=2.11->tensorflow-intel==2.11.0->tensorflow<3.0,>=2.2->keras-flops) (0.6.1)\n",
      "Requirement already satisfied: werkzeug>=1.0.1 in c:\\users\\avilo\\anaconda3\\lib\\site-packages (from tensorboard<2.12,>=2.11->tensorflow-intel==2.11.0->tensorflow<3.0,>=2.2->keras-flops) (2.0.3)\n",
      "Requirement already satisfied: markdown>=2.6.8 in c:\\users\\avilo\\anaconda3\\lib\\site-packages (from tensorboard<2.12,>=2.11->tensorflow-intel==2.11.0->tensorflow<3.0,>=2.2->keras-flops) (3.3.4)\n",
      "Requirement already satisfied: google-auth<3,>=1.6.3 in c:\\users\\avilo\\anaconda3\\lib\\site-packages (from tensorboard<2.12,>=2.11->tensorflow-intel==2.11.0->tensorflow<3.0,>=2.2->keras-flops) (1.33.0)\n",
      "Requirement already satisfied: rsa<5,>=3.1.4 in c:\\users\\avilo\\anaconda3\\lib\\site-packages (from google-auth<3,>=1.6.3->tensorboard<2.12,>=2.11->tensorflow-intel==2.11.0->tensorflow<3.0,>=2.2->keras-flops) (4.7.2)\n",
      "Requirement already satisfied: cachetools<5.0,>=2.0.0 in c:\\users\\avilo\\anaconda3\\lib\\site-packages (from google-auth<3,>=1.6.3->tensorboard<2.12,>=2.11->tensorflow-intel==2.11.0->tensorflow<3.0,>=2.2->keras-flops) (4.2.2)\n",
      "Requirement already satisfied: pyasn1-modules>=0.2.1 in c:\\users\\avilo\\anaconda3\\lib\\site-packages (from google-auth<3,>=1.6.3->tensorboard<2.12,>=2.11->tensorflow-intel==2.11.0->tensorflow<3.0,>=2.2->keras-flops) (0.2.8)\n",
      "Requirement already satisfied: requests-oauthlib>=0.7.0 in c:\\users\\avilo\\anaconda3\\lib\\site-packages (from google-auth-oauthlib<0.5,>=0.4.1->tensorboard<2.12,>=2.11->tensorflow-intel==2.11.0->tensorflow<3.0,>=2.2->keras-flops) (1.3.1)\n",
      "Requirement already satisfied: pyasn1<0.5.0,>=0.4.6 in c:\\users\\avilo\\anaconda3\\lib\\site-packages (from pyasn1-modules>=0.2.1->google-auth<3,>=1.6.3->tensorboard<2.12,>=2.11->tensorflow-intel==2.11.0->tensorflow<3.0,>=2.2->keras-flops) (0.4.8)\n",
      "Requirement already satisfied: charset-normalizer~=2.0.0 in c:\\users\\avilo\\anaconda3\\lib\\site-packages (from requests<3,>=2.21.0->tensorboard<2.12,>=2.11->tensorflow-intel==2.11.0->tensorflow<3.0,>=2.2->keras-flops) (2.0.4)\n",
      "Requirement already satisfied: urllib3<1.27,>=1.21.1 in c:\\users\\avilo\\anaconda3\\lib\\site-packages (from requests<3,>=2.21.0->tensorboard<2.12,>=2.11->tensorflow-intel==2.11.0->tensorflow<3.0,>=2.2->keras-flops) (1.26.9)\n",
      "Requirement already satisfied: idna<4,>=2.5 in c:\\users\\avilo\\anaconda3\\lib\\site-packages (from requests<3,>=2.21.0->tensorboard<2.12,>=2.11->tensorflow-intel==2.11.0->tensorflow<3.0,>=2.2->keras-flops) (3.3)\n",
      "Requirement already satisfied: certifi>=2017.4.17 in c:\\users\\avilo\\anaconda3\\lib\\site-packages (from requests<3,>=2.21.0->tensorboard<2.12,>=2.11->tensorflow-intel==2.11.0->tensorflow<3.0,>=2.2->keras-flops) (2021.10.8)\n",
      "Requirement already satisfied: oauthlib>=3.0.0 in c:\\users\\avilo\\anaconda3\\lib\\site-packages (from requests-oauthlib>=0.7.0->google-auth-oauthlib<0.5,>=0.4.1->tensorboard<2.12,>=2.11->tensorflow-intel==2.11.0->tensorflow<3.0,>=2.2->keras-flops) (3.2.2)\n",
      "Requirement already satisfied: pyparsing!=3.0.5,>=2.0.2 in c:\\users\\avilo\\anaconda3\\lib\\site-packages (from packaging->tensorflow-intel==2.11.0->tensorflow<3.0,>=2.2->keras-flops) (3.0.4)\n"
     ]
    }
   ],
   "source": [
    "!pip install keras-flops"
   ]
  },
  {
   "cell_type": "code",
   "execution_count": 225,
   "metadata": {
    "_cell_guid": "b1076dfc-b9ad-4769-8c92-a6c4dae69d19",
    "_uuid": "8f2839f25d086af736a60e9eeb907d3b93b6e0e5"
   },
   "outputs": [],
   "source": [
    "# Импорт необходимых библиотек\n",
    "import numpy as np\n",
    "import pandas as pd\n",
    "import tensorflow as tf\n",
    "from keras_flops import get_flops"
   ]
  },
  {
   "cell_type": "code",
   "execution_count": 226,
   "metadata": {},
   "outputs": [],
   "source": [
    "# Глобальные константы\n",
    "CLASSES       = 100\n",
    "BATCH_SIZE    = 128\n",
    "LEARNING_RATE = 1e-2"
   ]
  },
  {
   "cell_type": "code",
   "execution_count": 227,
   "metadata": {},
   "outputs": [],
   "source": [
    "# Выполните загрузку модели\n",
    "(X_train, y_train), (X_val, y_val) = tf.keras.datasets.cifar100.load_data()"
   ]
  },
  {
   "cell_type": "code",
   "execution_count": 228,
   "metadata": {},
   "outputs": [],
   "source": [
    "# Преобразуйте метки классов в one_hot формат\n",
    "from keras.utils import np_utils\n",
    "y_train = np_utils.to_categorical(y_train, CLASSES)\n",
    "y_val = np_utils.to_categorical(y_val, CLASSES)"
   ]
  },
  {
   "cell_type": "code",
   "execution_count": 229,
   "metadata": {},
   "outputs": [],
   "source": [
    "# убедитесь, что данная ячейка выполняется без ошибок\n",
    "assert X_train.shape == (50000, 32, 32, 3)\n",
    "assert X_val.shape == (10000, 32, 32, 3)\n",
    "assert y_train.shape == (50000, 100)\n",
    "assert y_val.shape == (10000, 100)"
   ]
  },
  {
   "cell_type": "code",
   "execution_count": 242,
   "metadata": {},
   "outputs": [],
   "source": [
    "# Задайте архитектуру модели\n",
    "model = tf.keras.models.Sequential([\n",
    "    tf.keras.Input(shape=[32,32,3]),\n",
    "    tf.keras.layers.Conv2D(16, kernel_size=3,strides=2, padding='same'),\n",
    "    tf.keras.layers.BatchNormalization(),\n",
    "    tf.keras.layers.MaxPooling2D(),\n",
    "    tf.keras.layers.Activation('relu'),\n",
    "    \n",
    "    tf.keras.layers.Conv2D(16, kernel_size=3,strides=2, padding='same'),\n",
    "    tf.keras.layers.BatchNormalization(),\n",
    "    tf.keras.layers.Activation('relu'),\n",
    "    \n",
    "    tf.keras.layers.Flatten(),\n",
    "    \n",
    "    tf.keras.layers.Dense(512),\n",
    "    tf.keras.layers.BatchNormalization(),\n",
    "    tf.keras.layers.Activation('relu'),\n",
    "    tf.keras.layers.Dropout(0.5),\n",
    "    \n",
    "    tf.keras.layers.Dense(CLASSES),\n",
    "    tf.keras.layers.Activation('softmax')\n",
    "    \n",
    "    \n",
    "])"
   ]
  },
  {
   "cell_type": "code",
   "execution_count": 243,
   "metadata": {},
   "outputs": [
    {
     "name": "stdout",
     "output_type": "stream",
     "text": [
      "FLOPs: 0.6820e6\n"
     ]
    }
   ],
   "source": [
    "# вычисление количества операций\n",
    "flops = get_flops(model, batch_size=1)\n",
    "print(f\"FLOPs: {(flops / 1e6):.4f}e6\")"
   ]
  },
  {
   "cell_type": "code",
   "execution_count": 244,
   "metadata": {},
   "outputs": [
    {
     "name": "stdout",
     "output_type": "stream",
     "text": [
      "Model: \"sequential_74\"\n",
      "_________________________________________________________________\n",
      " Layer (type)                Output Shape              Param #   \n",
      "=================================================================\n",
      " conv2d_134 (Conv2D)         (None, 16, 16, 16)        448       \n",
      "                                                                 \n",
      " batch_normalization_207 (Ba  (None, 16, 16, 16)       64        \n",
      " tchNormalization)                                               \n",
      "                                                                 \n",
      " max_pooling2d_69 (MaxPoolin  (None, 8, 8, 16)         0         \n",
      " g2D)                                                            \n",
      "                                                                 \n",
      " activation_281 (Activation)  (None, 8, 8, 16)         0         \n",
      "                                                                 \n",
      " conv2d_135 (Conv2D)         (None, 4, 4, 16)          2320      \n",
      "                                                                 \n",
      " batch_normalization_208 (Ba  (None, 4, 4, 16)         64        \n",
      " tchNormalization)                                               \n",
      "                                                                 \n",
      " activation_282 (Activation)  (None, 4, 4, 16)         0         \n",
      "                                                                 \n",
      " flatten_74 (Flatten)        (None, 256)               0         \n",
      "                                                                 \n",
      " dense_147 (Dense)           (None, 512)               131584    \n",
      "                                                                 \n",
      " batch_normalization_209 (Ba  (None, 512)              2048      \n",
      " tchNormalization)                                               \n",
      "                                                                 \n",
      " activation_283 (Activation)  (None, 512)              0         \n",
      "                                                                 \n",
      " dropout_58 (Dropout)        (None, 512)               0         \n",
      "                                                                 \n",
      " dense_148 (Dense)           (None, 100)               51300     \n",
      "                                                                 \n",
      " activation_284 (Activation)  (None, 100)              0         \n",
      "                                                                 \n",
      "=================================================================\n",
      "Total params: 187,828\n",
      "Trainable params: 186,740\n",
      "Non-trainable params: 1,088\n",
      "_________________________________________________________________\n"
     ]
    }
   ],
   "source": [
    "# вывод краткой информации о модели\n",
    "model.summary()"
   ]
  },
  {
   "cell_type": "code",
   "execution_count": 245,
   "metadata": {},
   "outputs": [],
   "source": [
    "# параметры данной ячейки могут быть изменены для получения более высокой точности\n",
    "model.compile(\n",
    "    optimizer=tf.keras.optimizers.Adam(\n",
    "        learning_rate=tf.keras.optimizers.schedules.ExponentialDecay(initial_learning_rate=LEARNING_RATE, decay_steps=1000, decay_rate=0.5)\n",
    "    ),\n",
    "    loss=tf.keras.losses.CategoricalCrossentropy(),\n",
    "    metrics=['accuracy']\n",
    ")"
   ]
  },
  {
   "cell_type": "code",
   "execution_count": 246,
   "metadata": {},
   "outputs": [
    {
     "name": "stdout",
     "output_type": "stream",
     "text": [
      "Epoch 1/50\n",
      "391/391 [==============================] - 9s 19ms/step - loss: 3.6714 - accuracy: 0.1576 - val_loss: 3.6865 - val_accuracy: 0.1618\n",
      "Epoch 2/50\n",
      "391/391 [==============================] - 7s 18ms/step - loss: 3.0779 - accuracy: 0.2449 - val_loss: 3.0235 - val_accuracy: 0.2591\n",
      "Epoch 3/50\n",
      "391/391 [==============================] - 7s 18ms/step - loss: 2.8401 - accuracy: 0.2881 - val_loss: 2.8459 - val_accuracy: 0.2960\n",
      "Epoch 4/50\n",
      "391/391 [==============================] - 7s 18ms/step - loss: 2.6710 - accuracy: 0.3248 - val_loss: 2.6961 - val_accuracy: 0.3250\n",
      "Epoch 5/50\n",
      "391/391 [==============================] - 7s 18ms/step - loss: 2.5357 - accuracy: 0.3522 - val_loss: 2.5862 - val_accuracy: 0.3487\n",
      "Epoch 6/50\n",
      "391/391 [==============================] - 7s 18ms/step - loss: 2.4399 - accuracy: 0.3717 - val_loss: 2.5381 - val_accuracy: 0.3619\n",
      "Epoch 7/50\n",
      "391/391 [==============================] - 7s 18ms/step - loss: 2.3534 - accuracy: 0.3897 - val_loss: 2.5264 - val_accuracy: 0.3622\n",
      "Epoch 8/50\n",
      "391/391 [==============================] - 7s 18ms/step - loss: 2.2861 - accuracy: 0.4039 - val_loss: 2.4766 - val_accuracy: 0.3767\n",
      "Epoch 9/50\n",
      "391/391 [==============================] - 7s 18ms/step - loss: 2.2289 - accuracy: 0.4175 - val_loss: 2.4757 - val_accuracy: 0.3766\n",
      "Epoch 10/50\n",
      "391/391 [==============================] - 8s 19ms/step - loss: 2.1802 - accuracy: 0.4293 - val_loss: 2.4377 - val_accuracy: 0.3824\n",
      "Epoch 11/50\n",
      "391/391 [==============================] - 7s 18ms/step - loss: 2.1521 - accuracy: 0.4327 - val_loss: 2.4277 - val_accuracy: 0.3848\n",
      "Epoch 12/50\n",
      "391/391 [==============================] - 7s 18ms/step - loss: 2.1338 - accuracy: 0.4380 - val_loss: 2.4180 - val_accuracy: 0.3933\n",
      "Epoch 13/50\n",
      "391/391 [==============================] - 7s 18ms/step - loss: 2.1083 - accuracy: 0.4429 - val_loss: 2.4195 - val_accuracy: 0.3895\n",
      "Epoch 14/50\n",
      "391/391 [==============================] - 7s 19ms/step - loss: 2.0960 - accuracy: 0.4468 - val_loss: 2.4319 - val_accuracy: 0.3855\n",
      "Epoch 15/50\n",
      "391/391 [==============================] - 7s 18ms/step - loss: 2.0781 - accuracy: 0.4514 - val_loss: 2.4066 - val_accuracy: 0.3947\n",
      "Epoch 16/50\n",
      "391/391 [==============================] - 8s 20ms/step - loss: 2.0734 - accuracy: 0.4510 - val_loss: 2.4034 - val_accuracy: 0.3939\n",
      "Epoch 17/50\n",
      "391/391 [==============================] - 7s 18ms/step - loss: 2.0662 - accuracy: 0.4528 - val_loss: 2.4034 - val_accuracy: 0.3932\n",
      "Epoch 18/50\n",
      "391/391 [==============================] - 7s 19ms/step - loss: 2.0565 - accuracy: 0.4568 - val_loss: 2.4030 - val_accuracy: 0.3944\n",
      "Epoch 19/50\n",
      "391/391 [==============================] - 7s 18ms/step - loss: 2.0492 - accuracy: 0.4568 - val_loss: 2.4003 - val_accuracy: 0.3930\n",
      "Epoch 20/50\n",
      "391/391 [==============================] - 7s 17ms/step - loss: 2.0522 - accuracy: 0.4544 - val_loss: 2.4004 - val_accuracy: 0.3928\n",
      "Epoch 21/50\n",
      "391/391 [==============================] - 7s 18ms/step - loss: 2.0504 - accuracy: 0.4571 - val_loss: 2.3991 - val_accuracy: 0.3921\n",
      "Epoch 22/50\n",
      "391/391 [==============================] - 7s 18ms/step - loss: 2.0532 - accuracy: 0.4564 - val_loss: 2.4016 - val_accuracy: 0.3923\n",
      "Epoch 23/50\n",
      "391/391 [==============================] - 9s 23ms/step - loss: 2.0561 - accuracy: 0.4553 - val_loss: 2.3999 - val_accuracy: 0.3929\n",
      "Epoch 24/50\n",
      "391/391 [==============================] - 10s 25ms/step - loss: 2.0435 - accuracy: 0.4588 - val_loss: 2.3992 - val_accuracy: 0.3926\n",
      "Epoch 25/50\n",
      "391/391 [==============================] - 9s 24ms/step - loss: 2.0479 - accuracy: 0.4588 - val_loss: 2.3993 - val_accuracy: 0.3922\n",
      "Epoch 26/50\n",
      "391/391 [==============================] - 7s 18ms/step - loss: 2.0527 - accuracy: 0.4554 - val_loss: 2.3992 - val_accuracy: 0.3927\n",
      "Epoch 27/50\n",
      "391/391 [==============================] - 7s 19ms/step - loss: 2.0433 - accuracy: 0.4592 - val_loss: 2.3991 - val_accuracy: 0.3914\n",
      "Epoch 28/50\n",
      "391/391 [==============================] - 7s 18ms/step - loss: 2.0469 - accuracy: 0.4572 - val_loss: 2.3994 - val_accuracy: 0.3919\n",
      "Epoch 29/50\n",
      "391/391 [==============================] - 7s 18ms/step - loss: 2.0496 - accuracy: 0.4554 - val_loss: 2.3991 - val_accuracy: 0.3920\n",
      "Epoch 30/50\n",
      "391/391 [==============================] - 8s 20ms/step - loss: 2.0467 - accuracy: 0.4534 - val_loss: 2.3996 - val_accuracy: 0.3921\n",
      "Epoch 31/50\n",
      "391/391 [==============================] - 7s 18ms/step - loss: 2.0447 - accuracy: 0.4576 - val_loss: 2.3995 - val_accuracy: 0.3937\n",
      "Epoch 32/50\n",
      "391/391 [==============================] - 7s 19ms/step - loss: 2.0380 - accuracy: 0.4603 - val_loss: 2.3996 - val_accuracy: 0.3924\n",
      "Epoch 33/50\n",
      "391/391 [==============================] - 7s 19ms/step - loss: 2.0480 - accuracy: 0.4562 - val_loss: 2.3994 - val_accuracy: 0.3927\n",
      "Epoch 34/50\n",
      "391/391 [==============================] - 8s 21ms/step - loss: 2.0496 - accuracy: 0.4556 - val_loss: 2.3997 - val_accuracy: 0.3922\n",
      "Epoch 35/50\n",
      "391/391 [==============================] - 7s 19ms/step - loss: 2.0501 - accuracy: 0.4561 - val_loss: 2.3994 - val_accuracy: 0.3925\n",
      "Epoch 36/50\n",
      "391/391 [==============================] - 7s 18ms/step - loss: 2.0475 - accuracy: 0.4574 - val_loss: 2.3994 - val_accuracy: 0.3922\n",
      "Epoch 37/50\n",
      "391/391 [==============================] - 7s 18ms/step - loss: 2.0454 - accuracy: 0.4568 - val_loss: 2.3992 - val_accuracy: 0.3921\n",
      "Epoch 38/50\n",
      "391/391 [==============================] - 7s 18ms/step - loss: 2.0424 - accuracy: 0.4578 - val_loss: 2.3992 - val_accuracy: 0.3934\n",
      "Epoch 39/50\n",
      "391/391 [==============================] - 7s 17ms/step - loss: 2.0475 - accuracy: 0.4584 - val_loss: 2.3994 - val_accuracy: 0.3926\n",
      "Epoch 40/50\n",
      "391/391 [==============================] - 8s 21ms/step - loss: 2.0432 - accuracy: 0.4577 - val_loss: 2.3994 - val_accuracy: 0.3918\n",
      "Epoch 41/50\n",
      "391/391 [==============================] - 8s 19ms/step - loss: 2.0491 - accuracy: 0.4566 - val_loss: 2.3991 - val_accuracy: 0.3924\n",
      "Epoch 42/50\n",
      "391/391 [==============================] - 7s 18ms/step - loss: 2.0418 - accuracy: 0.4598 - val_loss: 2.3995 - val_accuracy: 0.3932\n",
      "Epoch 43/50\n",
      "391/391 [==============================] - 7s 18ms/step - loss: 2.0467 - accuracy: 0.4575 - val_loss: 2.3995 - val_accuracy: 0.3923\n",
      "Epoch 44/50\n",
      "391/391 [==============================] - 7s 19ms/step - loss: 2.0430 - accuracy: 0.4545 - val_loss: 2.3994 - val_accuracy: 0.3924\n",
      "Epoch 45/50\n",
      "391/391 [==============================] - 7s 19ms/step - loss: 2.0444 - accuracy: 0.4587 - val_loss: 2.3993 - val_accuracy: 0.3917\n",
      "Epoch 46/50\n",
      "391/391 [==============================] - 8s 20ms/step - loss: 2.0490 - accuracy: 0.4555 - val_loss: 2.3990 - val_accuracy: 0.3924\n",
      "Epoch 47/50\n",
      "391/391 [==============================] - 7s 18ms/step - loss: 2.0414 - accuracy: 0.4578 - val_loss: 2.3997 - val_accuracy: 0.3924\n",
      "Epoch 48/50\n",
      "391/391 [==============================] - 7s 18ms/step - loss: 2.0454 - accuracy: 0.4572 - val_loss: 2.3992 - val_accuracy: 0.3922\n",
      "Epoch 49/50\n",
      "391/391 [==============================] - 7s 18ms/step - loss: 2.0447 - accuracy: 0.4571 - val_loss: 2.3994 - val_accuracy: 0.3917\n",
      "Epoch 50/50\n",
      "391/391 [==============================] - 7s 18ms/step - loss: 2.0499 - accuracy: 0.4568 - val_loss: 2.3996 - val_accuracy: 0.3928\n"
     ]
    },
    {
     "data": {
      "text/plain": [
       "<keras.callbacks.History at 0x29216b57040>"
      ]
     },
     "execution_count": 246,
     "metadata": {},
     "output_type": "execute_result"
    }
   ],
   "source": [
    "# обучения модели\n",
    "model.fit(\n",
    "    x=X_train,\n",
    "    y=y_train,\n",
    "    validation_data=(X_val, y_val),\n",
    "    batch_size=BATCH_SIZE,\n",
    "    callbacks=[\n",
    "        tf.keras.callbacks.ModelCheckpoint(filepath=\"{epoch:02d}-{val_accuracy:.2f}.hdf5\", save_best_only=True),\n",
    "        \n",
    "    ],\n",
    "    use_multiprocessing=True,\n",
    "    workers=8,\n",
    "    epochs=50\n",
    ")"
   ]
  }
 ],
 "metadata": {
  "kernelspec": {
   "display_name": "Python 3 (ipykernel)",
   "language": "python",
   "name": "python3"
  },
  "language_info": {
   "codemirror_mode": {
    "name": "ipython",
    "version": 3
   },
   "file_extension": ".py",
   "mimetype": "text/x-python",
   "name": "python",
   "nbconvert_exporter": "python",
   "pygments_lexer": "ipython3",
   "version": "3.9.12"
  }
 },
 "nbformat": 4,
 "nbformat_minor": 4
}
